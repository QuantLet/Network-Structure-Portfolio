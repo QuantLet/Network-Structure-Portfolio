{
 "cells": [
  {
   "cell_type": "code",
   "execution_count": 25,
   "id": "b9a2504f",
   "metadata": {},
   "outputs": [],
   "source": [
    "import linecache\n",
    "\n",
    "def get_line_context(file_path, line_number):\n",
    "     return linecache.getline(file_path, line_number).strip()\n",
    "\n",
    "\n",
    "f = open(\"timewindow.srt\",'w')#读取label.txt文件，没有则创建，‘a’表示再次写入时不覆盖之前的内容\n",
    "for i in range(167):\n",
    "    f.write('%d\\n' %i)\n",
    "    f.write('00:00:%02d,%1d00 --> 00:00:%02d,%1d00\\n' %(i//10,i%10,(i+1)//10,(i+1)%10))\n",
    "    d=get_line_context(\"FromTo.txt\", i+1)\n",
    "    f.write('%s - %s' %(d[:10],d[11:21]))\n",
    "    f.write('\\n\\n')\n",
    "f.close()"
   ]
  }
 ],
 "metadata": {
  "kernelspec": {
   "display_name": "Python 3 (ipykernel)",
   "language": "python",
   "name": "python3"
  },
  "language_info": {
   "codemirror_mode": {
    "name": "ipython",
    "version": 3
   },
   "file_extension": ".py",
   "mimetype": "text/x-python",
   "name": "python",
   "nbconvert_exporter": "python",
   "pygments_lexer": "ipython3",
   "version": "3.9.7"
  }
 },
 "nbformat": 4,
 "nbformat_minor": 5
}
